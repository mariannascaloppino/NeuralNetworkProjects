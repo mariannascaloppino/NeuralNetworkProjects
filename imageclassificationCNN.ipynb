{
  "nbformat": 4,
  "nbformat_minor": 0,
  "metadata": {
    "colab": {
      "provenance": [],
      "gpuType": "T4",
      "toc_visible": true
    },
    "kernelspec": {
      "name": "python3",
      "display_name": "Python 3"
    },
    "language_info": {
      "name": "python"
    },
    "accelerator": "GPU",
    "gpuClass": "standard"
  },
  "cells": [
    {
      "cell_type": "markdown",
      "source": [
        " Approach based on Convolutional Neural Networks for image classification. To this end, we will use the Keras library, which provides a set of functions that facilitate various operations such as data preparation, the definition of the neural network architecture, training, and performance analysis.\n",
        "\n",
        "As a first example of classification, we will tackle the problem of recognizing handwritten digits from 0 to 9 using the MNIST dataset. This dataset consists of a total of 70,000 grayscale images, each with a resolution of 28 × 28 pixels."
      ],
      "metadata": {
        "id": "a-AQCHxXZMYO"
      }
    },
    {
      "cell_type": "markdown",
      "source": [],
      "metadata": {
        "id": "EV32xVfcaf-Q"
      }
    },
    {
      "cell_type": "code",
      "execution_count": null,
      "metadata": {
        "id": "WAgMTHtdVyeE"
      },
      "outputs": [],
      "source": [
        "#caricamento e preparazione dei dati\n",
        "%reset -f\n",
        "import numpy as np\n",
        "import matplotlib.pyplot as plt\n",
        "from tensorflow import keras\n",
        "#carica i dati MINST\n",
        "from tensorflow.keras.datasets import mnist\n",
        "(x_train, y_train),(x_test, y_test) = mnist.load_data()\n",
        "\n",
        "id = 300\n",
        "img = x_test[id,:,:]\n",
        "y = y_test[id]\n",
        "\n",
        "plt.figure()\n",
        "plt.imshow(img, clim=[0,255], cmap='gray')\n",
        "plt.title(y)\n",
        "plt.show()\n",
        "\n",
        "x_valid = x_train[::12]\n",
        "y_valid = y_train[::12]\n",
        "x_train = np.delete(x_train,np.arange(0,60000,12),0) #sul primo asse scorro le immagini quindi sulla dim 0\n",
        "y_train = np.delete(y_train,np.arange(0,60000,12),0) #sul primo asse scorro le immagini quindi sulla dim 0\n",
        "%whos\n",
        "img_rows = 28 ; img_cols = 28 ; num_classes = 10\n",
        "\n",
        "x_test = np.reshape(x_test, (-1, img_rows, img_cols,1))\n",
        "x_train = np.reshape(x_train, (-1, img_rows, img_cols,1))\n",
        "x_valid = np.reshape(x_valid, (-1, img_rows, img_cols,1))\n",
        "x_test = np.float32(x_test) / 255\n",
        "x_train = np.float32(x_train) / 255\n",
        "x_valid = np.float32(x_valid) / 255 #float32 va piu veloci delle 64 sulle gpu\n",
        "#per convertire le etichette da formato sparso a fromato one hot: dopo questa conversione le etichette non saranno piu vettori ma matrici.\n",
        "#le  colonne sono pari al numero di classi\n",
        "from tensorflow.keras.utils import to_categorical\n",
        "y_tets = to_categorical(y_test, num_classes ) #è pari al numeor di classi\n",
        "y_train = to_categorical(y_train, num_classes )\n",
        "y_valid = to_categorical(y_valid, num_classes )\n",
        "\n",
        "y_test[id] #vettore lungo 10 pari al numeoro di classi\n",
        "\n",
        "#Creiamo rete LENET\"\"\"\n",
        "\n",
        "from tensorflow.keras import layers #ci sono tuttti i livelli prefatti: convoluzionali\n",
        "lenet = keras.models.Sequential() # crea rete senza livelli completamente vuota\n",
        "layer1 = layers.Conv2D(6,(5,5), padding='same', activation='relu',input_shape=(img_rows,img_cols,1))#primo parametro: numero di filtri, dimensione del filtro, operazioni opzionali: considera 0 al di fuori dell imagine\n",
        "#imput shape va indicato solo nel primo livello\n",
        "#se lavoriamo su audio possiamo mettere conv 1d, dimensione filtro 2x2 parametri opzionali per  bordi , funzione id attivazione\n",
        "#input con un certo numero di righe colonne e canali\n",
        "\n",
        "lenet.add(layer1) #aggiungo layer1 a lenet\n",
        "\n",
        "layer2 = layers.MaxPooling2D((2,2))\n",
        "lenet.add(layer2)\n",
        "\n",
        "layer3 = layers.Conv2D(16, (5,5), padding='valid', activation='relu')\n",
        "lenet.add(layer3)\n",
        "\n",
        "layer4 = layers.MaxPooling2D((2,2))\n",
        "lenet.add(layer4)\n",
        "#bisogna applicare una trasformazione dati, quindi mettiamo un layer fittizio che fa un operazione di fratel:\n",
        "#prende una matrice e la fa diventare un vettore\"\"\"\n",
        "layer5 =layers.Dense(120, activation='relu') #numero di neuroni in uscita e funzzione di attivazione\n",
        "lenet.add(layer5)\n",
        "\n",
        "layer6 = layers.Dense(84, activation='relu')\n",
        "lenet.add(layer6)\n",
        "\n",
        "layer7 = layers.Dense(10, activation='softmax')\n",
        "lenet.add(layer7)\n",
        "#per avere info sulla rete e i suoi parametri\"\"\"\n",
        "lenet.summary() #tabella riassuntiva\n",
        "#definiti i dati e la rete ora bisogna definire la funzione di loss e la tecnica di ottimizazzione\"\"\"\n",
        "\n",
        "#addestramento\n",
        "lenet.compile(loss=keras.losses.categorical_crossentropy,\n",
        "              optimizer=keras.optimizers.SGD(learning_rate = 0.01),\n",
        "              metrics = [keras.metrics.CategoricalAccuracy(),]) #categorical perchè le etichette le abbioamo invertite in formato one hot"
      ]
    },
    {
      "cell_type": "markdown",
      "source": [],
      "metadata": {
        "id": "lTpAdx5WaZsM"
      }
    },
    {
      "cell_type": "code",
      "execution_count": null,
      "metadata": {
        "colab": {
          "base_uri": "https://localhost:8080/",
          "height": 1000
        },
        "outputId": "a3c1089b-0b7e-4c28-ed0f-f73c5d2cd3ef",
        "id": "XQA9UnjYaaob"
      },
      "outputs": [
        {
          "output_type": "stream",
          "name": "stdout",
          "text": [
            "Downloading data from https://storage.googleapis.com/tensorflow/tf-keras-datasets/mnist.npz\n",
            "11490434/11490434 [==============================] - 0s 0us/step\n"
          ]
        },
        {
          "output_type": "display_data",
          "data": {
            "text/plain": [
              "<Figure size 640x480 with 1 Axes>"
            ],
            "image/png": "[encoded data removed]"
          },
          "metadata": {}
        },
        {
          "output_type": "stream",
          "name": "stdout",
          "text": [
            "Variable   Type       Data/Info\n",
            "-------------------------------\n",
            "id         int        300\n",
            "img        ndarray    28x28: 784 elems, type `uint8`, 784 bytes\n",
            "keras      module     <module 'keras.api._v2.ke<...>i/_v2/keras/__init__.py'>\n",
            "mnist      module     <module 'keras.api._v2.ke<...>asets/mnist/__init__.py'>\n",
            "np         module     <module 'numpy' from '/us<...>kages/numpy/__init__.py'>\n",
            "plt        module     <module 'matplotlib.pyplo<...>es/matplotlib/pyplot.py'>\n",
            "x_test     ndarray    10000x28x28: 7840000 elems, type `uint8`, 7840000 bytes (7.476806640625 Mb)\n",
            "x_train    ndarray    55000x28x28: 43120000 elems, type `uint8`, 43120000 bytes (41.1224365234375 Mb)\n",
            "x_valid    ndarray    5000x28x28: 3920000 elems, type `uint8`, 3920000 bytes (3.7384033203125 Mb)\n",
            "y          uint8      4\n",
            "y_test     ndarray    10000: 10000 elems, type `uint8`, 10000 bytes\n",
            "y_train    ndarray    55000: 55000 elems, type `uint8`, 55000 bytes\n",
            "y_valid    ndarray    5000: 5000 elems, type `uint8`, 5000 bytes\n",
            "Model: \"sequential\"\n",
            "_________________________________________________________________\n",
            " Layer (type)                Output Shape              Param #   \n",
            "=================================================================\n",
            " conv2d (Conv2D)             (None, 28, 28, 6)         156       \n",
            "                                                                 \n",
            " max_pooling2d (MaxPooling2D  (None, 14, 14, 6)        0         \n",
            " )                                                               \n",
            "                                                                 \n",
            " conv2d_1 (Conv2D)           (None, 10, 10, 16)        2416      \n",
            "                                                                 \n",
            " max_pooling2d_1 (MaxPooling  (None, 5, 5, 16)         0         \n",
            " 2D)                                                             \n",
            "                                                                 \n",
            " dense (Dense)               (None, 5, 5, 120)         2040      \n",
            "                                                                 \n",
            " dense_1 (Dense)             (None, 5, 5, 84)          10164     \n",
            "                                                                 \n",
            " dense_2 (Dense)             (None, 5, 5, 10)          850       \n",
            "                                                                 \n",
            "=================================================================\n",
            "Total params: 15,626\n",
            "Trainable params: 15,626\n",
            "Non-trainable params: 0\n",
            "_________________________________________________________________\n"
          ]
        }
      ],
      "source": [
        "#TESTIAMO LA RETE SU UN'IMMAGINE\n",
        "%reset -f\n",
        "import numpy as np\n",
        "import matplotlib.pyplot as plt\n",
        "from tensorflow import keras\n",
        "#carica i dati MINST\n",
        "from tensorflow.keras.datasets import mnist\n",
        "(x_train, y_train),(x_test, y_test) = mnist.load_data()\n",
        "\n",
        "id = 300\n",
        "img = x_test[id,:,:]\n",
        "y = y_test[id]\n",
        "\n",
        "plt.figure()\n",
        "plt.imshow(img, clim=[0,255], cmap='gray')\n",
        "plt.title(y)\n",
        "plt.show()\n",
        "\n",
        "x_valid = x_train[::12]\n",
        "y_valid = y_train[::12]\n",
        "x_train = np.delete(x_train,np.arange(0,60000,12),0) #sul primo asse scorro le immagini quindi sulla dim 0\n",
        "y_train = np.delete(y_train,np.arange(0,60000,12),0) #sul primo asse scorro le immagini quindi sulla dim 0\n",
        "%whos\n",
        "img_rows = 28 ; img_cols = 28 ; num_classes = 10\n",
        "\n",
        "x_test = np.reshape(x_test, (-1, img_rows, img_cols,1))\n",
        "x_train = np.reshape(x_train, (-1, img_rows, img_cols,1))\n",
        "x_valid = np.reshape(x_valid, (-1, img_rows, img_cols,1))\n",
        "x_test = np.float32(x_test) / 255\n",
        "x_train = np.float32(x_train) / 255\n",
        "x_valid = np.float32(x_valid) / 255 #float32 va piu veloci delle 64 sulle gpu\n",
        "#per convertire le etichette da formato sparso a fromato one hot: dopo questa conversione le etichette non saranno piu vettori ma matrici . le  colonne sono pari al numero di classi e le righe\n",
        "from tensorflow.keras.utils import to_categorical\n",
        "y_tets = to_categorical(y_test, num_classes )#è pari al numeor di classi\n",
        "y_train = to_categorical(y_train, num_classes )\n",
        "y_valid = to_categorical(y_valid, num_classes )\n",
        "\n",
        "y_test[id] #vettore lungo 10 pari al numeoro di classi\n",
        "\n",
        "#Creiamo rete lenet\"\"\"\n",
        "from tensorflow.keras import layers #ci sono tuttti i livelli prefatti: convoluzionali\n",
        "lenet = keras.models.Sequential() # crea rete senza livelli completamente vuota\n",
        "layer1 = layers.Conv2D(6,(5,5), padding='same', activation='relu',input_shape=(img_rows,img_cols,1))#primo parametro: numero di filtri, dimensione del filtro, operazioni opzionali: considera 0 al di fuori dell imagine\n",
        "#imput shape va indicato solo nel primo livello\n",
        "#se lavoriamo su audio possiamo mettere conv 1d, dimensione filtro 2x2 parametri opzionali per  bordi , funzione id attivazione\n",
        "#input con un certo numero di righe colonne e canali\n",
        "\n",
        "lenet.add(layer1) #aggiungo layer1 a lenet\n",
        "\n",
        "layer2 = layers.MaxPooling2D((2,2))#bocchetto su cui fare il massismo\n",
        "lenet.add(layer2)\n",
        "\n",
        "layer3 = layers.Conv2D(16, (5,5), padding='valid', activation='relu')\n",
        "lenet.add(layer3)\n",
        "\n",
        "layer4 = layers.MaxPooling2D((2,2))\n",
        "lenet.add(layer4)\n",
        "#bisogna applicare una trasformazione dati, quindi mettiamo un layer fittizio che fa un operazione di fratel:\n",
        "#prende una matrice e la fa diventare un vettore\"\"\"\n",
        "layer5 =layers.Dense(120, activation='relu') #numero di neuroni in uscita e funzzione di attivazione\n",
        "lenet.add(layer5)\n",
        "\n",
        "layer6 = layers.Dense(84, activation='relu')\n",
        "lenet.add(layer6)\n",
        "\n",
        "layer7 = layers.Dense(10, activation='softmax')\n",
        "lenet.add(layer7)\n",
        "#per avere info sulla rete e i suoi parametri\"\"\"\n",
        "lenet.summary() #tabella riassuntiva\n",
        "#definiti i dati e la rete ora bisogna definire la funzione di loss e la tecnica di ottimizazzione\"\"\"\n",
        "lenet.compile(loss=keras.losses.categorical_crossentropy,\n",
        "              optimizer=keras.optimizers.SGD(learning_rate = 0.01),\n",
        "              metrics = [keras.metrics.CategoricalAccuracy(),]) #categorical perchè le etichette le abbioamo invertite in formato one hot"
      ]
    },
    {
      "cell_type": "code",
      "source": [
        "#training\n",
        "lenet.fit(x_train, y_train, batch_size=200, epochs=10, validation_data=(x_valid, y_valid))\n",
        "\n",
        "#analisi delle prestazioni\n",
        "lenet.evaluate(x_test, y_test, batch_size=200)\n",
        "\n",
        "y_pred = lenet.predict(x_test, batch_size=200) #uscita della rete\n",
        "y_pred = np.argmax(y_pred, 1)  #voglio sapere a che classe assegnare immagine in ingresso e non la probabilità come sopra\n",
        "y_true = np.argmax(y_test,1)\n",
        "\n",
        "from sklearn.metrics import confusion_matrix\n",
        "confusion_matrix(y_true, y_pred) #matrice di confusione\n",
        "#se voglio vedere predizione su una singola immagine\"\"\"\n",
        "id =100\n",
        "img = x_test[id,:,:,:]\n",
        "vero = np.argmax(y_test[id])\n",
        "img= np.reshape(img, (1,28,28,1))\n",
        "predizione = lenet.predict(img) #predict lavora su piu immagini alla volta percio dobbiamo fare prima il reshape\n",
        "\n",
        "plt.figure()\n",
        "plt.subplot(1,2,1)\n",
        "plt.imshow(img[0,:,:,0], clim=[0,1], cmap='gray')\n",
        "plt.title(vero)\n",
        "plt.subplot(1,2,2)\n",
        "plt.bar(np.arange(0,10), predizione[0,:])\n",
        "plt.xticks(np.arange(0,10)) # per visualizzare meglio la figura\n",
        "plt.show()\n",
        "lenet.predict() #lavora su 4 immagini alla volta\n",
        "#!nvidia-smi #da potenza e memoria occupata.."
      ],
      "metadata": {
        "id": "x1ds5O9039Kn"
      },
      "execution_count": null,
      "outputs": []
    },
    {
      "cell_type": "code",
      "source": [],
      "metadata": {
        "id": "ErTYlCKdk3w8"
      },
      "execution_count": null,
      "outputs": []
    }
  ]
}